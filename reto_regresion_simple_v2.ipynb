{
 "cells": [
  {
   "cell_type": "markdown",
   "source": [
    "## Reto\n",
    "\n",
    "agrega una columna extra al dataset, el pais, muestra la grafica resultante y busca la relacion entre el pais y el salario"
   ],
   "metadata": {}
  },
  {
   "cell_type": "code",
   "execution_count": 1,
   "source": [
    "import pandas as pd\n",
    "import numpy as np\n",
    "import random\n",
    "import matplotlib.pyplot as plt\n",
    "from mpl_toolkits.mplot3d import Axes3D\n",
    "from sklearn.model_selection import train_test_split\n",
    "from sklearn.linear_model import LinearRegression\n",
    "from sklearn import preprocessing\n",
    "\n",
    "dataset = pd.read_csv('salarios.csv')\n",
    "\n",
    "# defino los paises en list paises\n",
    "paises = ['CO', 'BR', 'PE', 'MX']\n",
    "\n",
    "# llevo cada elemento de paises a que sea convertido a un numero\n",
    "le1 = preprocessing.LabelEncoder()\n",
    "paises_encoded = le1.fit_transform(paises)\n",
    "\n",
    "# de forma aleatoria creo 30 elementos para dataset\n",
    "paises_dataset = [random.choice(paises_encoded) for i in range(len(dataset))]\n",
    "\n",
    "# paises codificados y en lista pasados al dataset\n",
    "dataset['pais'] = paises_dataset\n"
   ],
   "outputs": [],
   "metadata": {}
  },
  {
   "cell_type": "code",
   "execution_count": 2,
   "source": [
    "# Dividiendo las columnas en x y y\n",
    "x = dataset.drop('Salario', axis=1)\n",
    "y = dataset.iloc[:, 1].values\n",
    "\n",
    "# dividimos nuestro dataset\n",
    "X_train, X_test, Y_train, Y_test = train_test_split(\n",
    "    x, y, test_size=0.2, random_state=0)\n",
    "\n",
    "# Invocamos el modelo y creamos el modelo con .fit\n",
    "regressor = LinearRegression()\n",
    "regressor.fit(X_train, Y_train)\n",
    "\n",
    "# Evaluamos performance\n",
    "print(regressor.score(X_test, Y_test))\n"
   ],
   "outputs": [
    {
     "output_type": "stream",
     "name": "stdout",
     "text": [
      "0.7687544523781336\n"
     ]
    }
   ],
   "metadata": {}
  },
  {
   "cell_type": "code",
   "execution_count": 3,
   "source": [
    "print(X_train.head())\n"
   ],
   "outputs": [
    {
     "output_type": "stream",
     "name": "stdout",
     "text": [
      "    Aexperiencia  pais\n",
      "27          10.0     0\n",
      "11           7.0     1\n",
      "17           2.0     2\n",
      "22           5.3     3\n",
      "5            8.0     2\n"
     ]
    }
   ],
   "metadata": {}
  },
  {
   "cell_type": "code",
   "execution_count": 4,
   "source": [
    "print(X_test)\n"
   ],
   "outputs": [
    {
     "output_type": "stream",
     "name": "stdout",
     "text": [
      "    Aexperiencia  pais\n",
      "2            5.4     0\n",
      "28           4.0     1\n",
      "13           5.0     0\n",
      "10           4.0     3\n",
      "26           3.2     3\n",
      "24           9.2     3\n"
     ]
    }
   ],
   "metadata": {}
  },
  {
   "cell_type": "code",
   "execution_count": 5,
   "source": [
    "print(Y_train)\n",
    "\n"
   ],
   "outputs": [
    {
     "output_type": "stream",
     "name": "stdout",
     "text": [
      "[40000 35201 18200 27900 37000 19000 18302 17000 17500 28000 36302 15000\n",
      " 26300 15000 19000 17301 42000 35201 42500 18103 42500 20000 33402 19201]\n"
     ]
    }
   ],
   "metadata": {}
  },
  {
   "cell_type": "code",
   "execution_count": 6,
   "source": [
    "print(Y_test)\n"
   ],
   "outputs": [
    {
     "output_type": "stream",
     "name": "stdout",
     "text": [
      "[35000 25000 28000 27000 18300 40000]\n"
     ]
    }
   ],
   "metadata": {}
  },
  {
   "cell_type": "code",
   "execution_count": 7,
   "source": [
    "%matplotlib\n",
    "# ploteamos datos de entrenamiento para ver si realmente el\n",
    "# modelo lo hizo bien, se entreno como se debe\n",
    "fig = plt.figure()\n",
    "viz_train = fig.add_subplot(111, projection='3d')\n",
    "viz_train.scatter(X_train['Aexperiencia'],\n",
    "                  X_train['pais'], Y_train, color='blue')\n",
    "viz_train.plot_trisurf(X_train['Aexperiencia'], X_train['pais'], regressor.predict(\n",
    "    X_train), color='black', alpha=0.5)\n",
    "viz_train.set_title('Salario Experiencia y pais')\n",
    "viz_train.set_xlabel('Experiencia')\n",
    "viz_train.set_ylabel('Pais')\n",
    "viz_train.set_zlabel('Salario')\n",
    "viz_train.set_yticks(range(len(paises_encoded)))\n",
    "viz_train.set_yticklabels(le1.inverse_transform(paises_encoded))\n",
    "viz_train.azim = -10\n",
    "fig.show\n"
   ],
   "outputs": [
    {
     "output_type": "stream",
     "name": "stdout",
     "text": [
      "Using matplotlib backend: Qt5Agg\n"
     ]
    },
    {
     "output_type": "execute_result",
     "data": {
      "text/plain": [
       "<bound method Figure.show of <Figure size 640x480 with 1 Axes>>"
      ]
     },
     "metadata": {},
     "execution_count": 7
    }
   ],
   "metadata": {}
  },
  {
   "cell_type": "code",
   "execution_count": 8,
   "source": [
    "%matplotlib\n",
    "# probamos con datos de test\n",
    "fig = plt.figure()\n",
    "viz_train = fig.add_subplot(111, projection='3d')\n",
    "viz_train.scatter(X_test['Aexperiencia'], X_test['pais'], Y_test, color='red')\n",
    "viz_train.plot_trisurf(X_train['Aexperiencia'], X_train['pais'], regressor.predict(\n",
    "    X_train), color='black', alpha=0.5)\n",
    "viz_train.set_title('Salario Experiencia y pais')\n",
    "viz_train.set_xlabel('Experiencia')\n",
    "viz_train.set_ylabel('Pais')\n",
    "viz_train.set_zlabel('Salario')\n",
    "viz_train.set_yticks(range(len(paises_encoded)))\n",
    "viz_train.set_yticklabels(le1.inverse_transform(paises_encoded))\n",
    "viz_train.azim = -10\n",
    "fig.show\n"
   ],
   "outputs": [
    {
     "output_type": "stream",
     "name": "stdout",
     "text": [
      "Using matplotlib backend: Qt5Agg\n"
     ]
    },
    {
     "output_type": "execute_result",
     "data": {
      "text/plain": [
       "<bound method Figure.show of <Figure size 640x480 with 1 Axes>>"
      ]
     },
     "metadata": {},
     "execution_count": 8
    }
   ],
   "metadata": {}
  }
 ],
 "metadata": {
  "orig_nbformat": 4,
  "language_info": {
   "name": "python",
   "version": "3.9.5",
   "mimetype": "text/x-python",
   "codemirror_mode": {
    "name": "ipython",
    "version": 3
   },
   "pygments_lexer": "ipython3",
   "nbconvert_exporter": "python",
   "file_extension": ".py"
  },
  "kernelspec": {
   "name": "python3",
   "display_name": "Python 3.9.5 64-bit ('datascience_ml': conda)"
  },
  "interpreter": {
   "hash": "f5bceb1afc4869e4b9fabd2ca8b7231ce721ab457c48373fb761565f06fcb0ed"
  }
 },
 "nbformat": 4,
 "nbformat_minor": 2
}