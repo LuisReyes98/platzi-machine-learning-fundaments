{
 "cells": [
  {
   "cell_type": "code",
   "execution_count": 1,
   "source": [
    "\n",
    "import pandas as pd\n",
    "import numpy as np\n",
    "import matplotlib.pyplot as plt\n",
    "from sklearn.model_selection import train_test_split\n",
    "from sklearn.linear_model import LinearRegression\n"
   ],
   "outputs": [],
   "metadata": {}
  },
  {
   "cell_type": "code",
   "execution_count": 2,
   "source": [
    "regressor = LinearRegression()\n"
   ],
   "outputs": [],
   "metadata": {}
  },
  {
   "cell_type": "code",
   "execution_count": 4,
   "source": [
    "dataset = pd.read_csv('salarios.csv')\n",
    "paises = ['VZ', 'MX', 'CO', 'BR', 'AR', 'US']\n",
    "new_column = [paises[np.random.randint(0, len(paises))] for i in range(30)]\n",
    "dataset['Pais'] = new_column\n",
    "dataset['NormPaises'] = pd.factorize(dataset['Pais'])[0]\n",
    "print(dataset.head())\n",
    "x = dataset[['Aexperiencia', 'NormPaises']]\n",
    "y = dataset['Salario']\n",
    "X_train, X_test, y_train, y_test = train_test_split(\n",
    "    x, y, test_size=0.6, random_state=0)\n",
    "regressor.fit(X_train, y_train)\n",
    "regressor.score(X_test, y_test)\n"
   ],
   "outputs": [
    {
     "output_type": "stream",
     "name": "stdout",
     "text": [
      "    Aexperiencia  Salario Pais  NormPaises\n",
      "0           10.0    42500   CO           0\n",
      "1            8.0    36302   BR           1\n",
      "2            5.4    35000   AR           2\n",
      "3            2.5    18103   AR           2\n",
      "4            1.0    15000   US           3\n",
      "5            8.0    37000   AR           2\n",
      "6            4.0    26300   AR           2\n",
      "7            6.0    35201   BR           1\n",
      "8            2.0    18302   US           3\n",
      "9           10.0    42000   CO           0\n",
      "10           4.0    27000   US           3\n",
      "11           7.0    35201   VZ           4\n",
      "12           3.0    19201   AR           2\n",
      "13           5.0    28000   CO           0\n",
      "14           2.0    17000   VZ           4\n",
      "15           5.0    33402   CO           0\n",
      "16           3.0    19000   VZ           4\n",
      "17           2.0    18200   BR           1\n",
      "18           3.0    19000   VZ           4\n",
      "19           2.0    17301   US           3\n",
      "20           5.0    28000   CO           0\n",
      "21           3.4    20000   MX           5\n",
      "22           5.3    27900   VZ           4\n",
      "23           2.1    17500   BR           1\n",
      "24           9.2    40000   VZ           4\n",
      "25          10.0    42500   US           3\n",
      "26           3.2    18300   AR           2\n",
      "27          10.0    40000   CO           0\n",
      "28           4.0    25000   VZ           4\n",
      "29           1.0    15000   AR           2\n"
     ]
    },
    {
     "output_type": "execute_result",
     "data": {
      "text/plain": [
       "0.8888531710068234"
      ]
     },
     "metadata": {},
     "execution_count": 4
    }
   ],
   "metadata": {}
  },
  {
   "cell_type": "code",
   "execution_count": 7,
   "source": [
    "%matplotlib\n",
    "fig = plt.figure(dpi=150)\n",
    "ax = fig.add_subplot(111, projection='3d')\n",
    "ax.scatter(X_train['Aexperiencia'], X_train['NormPaises'],\n",
    "           y_train, c='b', marker='s')\n",
    "ax.scatter(X_train['Aexperiencia'], X_train['NormPaises'],\n",
    "           regressor.predict(X_train), c='r', marker='o')\n",
    "\n",
    "ax.plot_trisurf(\n",
    "  X_train['Aexperiencia'],\n",
    "  X_train['NormPaises'],\n",
    "  regressor.predict(\n",
    "      X_train\n",
    "  ),\n",
    "    color='black',\n",
    "    alpha=0.5\n",
    ")\n",
    "\n",
    "ax.set_xlabel('$Años de experiencia$')\n",
    "ax.set_ylabel('$Pais Normalizado$')\n",
    "ax.set_zlabel('$Salario$')\n"
   ],
   "outputs": [
    {
     "output_type": "stream",
     "name": "stdout",
     "text": [
      "Using matplotlib backend: Qt5Agg\n"
     ]
    },
    {
     "output_type": "execute_result",
     "data": {
      "text/plain": [
       "Text(0.5, 0, '$Salario$')"
      ]
     },
     "metadata": {},
     "execution_count": 7
    }
   ],
   "metadata": {}
  }
 ],
 "metadata": {
  "orig_nbformat": 4,
  "language_info": {
   "name": "python",
   "version": "3.9.5",
   "mimetype": "text/x-python",
   "codemirror_mode": {
    "name": "ipython",
    "version": 3
   },
   "pygments_lexer": "ipython3",
   "nbconvert_exporter": "python",
   "file_extension": ".py"
  },
  "kernelspec": {
   "name": "python3",
   "display_name": "Python 3.9.5 64-bit ('datascience_ml': conda)"
  },
  "interpreter": {
   "hash": "f5bceb1afc4869e4b9fabd2ca8b7231ce721ab457c48373fb761565f06fcb0ed"
  }
 },
 "nbformat": 4,
 "nbformat_minor": 2
}