{
 "cells": [
  {
   "cell_type": "markdown",
   "source": [
    "## Reto\n",
    "\n",
    "agrega una columna extra al dataset, el pais, muestra la grafica resultante y busca la relacion entre el pais y el salario"
   ],
   "metadata": {}
  },
  {
   "cell_type": "code",
   "execution_count": 2,
   "source": [
    "\n",
    "import pandas as pd\n",
    "import numpy as np\n",
    "import matplotlib.pyplot as plt\n",
    "from sklearn.model_selection import train_test_split\n",
    "from sklearn.linear_model import LinearRegression\n"
   ],
   "outputs": [],
   "metadata": {}
  },
  {
   "cell_type": "code",
   "execution_count": 3,
   "source": [
    "regressor = LinearRegression()\n"
   ],
   "outputs": [],
   "metadata": {}
  },
  {
   "cell_type": "code",
   "execution_count": 4,
   "source": [
    "dataset = pd.read_csv('salarios.csv')\n",
    "paises = ['VZ', 'MX', 'CO', 'BR', 'AR', 'US']\n",
    "new_column = [paises[np.random.randint(0, len(paises))] for i in range(30)]\n",
    "dataset['Pais'] = new_column\n",
    "dataset['NormPaises'] = pd.factorize(dataset['Pais'])[0]\n",
    "\n",
    "print(dataset.head())\n",
    "\n",
    "x = dataset[['Aexperiencia', 'NormPaises']]\n",
    "y = dataset['Salario']\n",
    "X_train, X_test, y_train, y_test = train_test_split(\n",
    "    x, y, test_size=0.6, random_state=0)\n",
    "regressor.fit(X_train, y_train)\n",
    "regressor.score(X_test, y_test)\n"
   ],
   "outputs": [
    {
     "output_type": "stream",
     "name": "stdout",
     "text": [
      "   Aexperiencia  Salario Pais  NormPaises\n",
      "0          10.0    42500   CO           0\n",
      "1           8.0    36302   US           1\n",
      "2           5.4    35000   AR           2\n",
      "3           2.5    18103   AR           2\n",
      "4           1.0    15000   VZ           3\n"
     ]
    },
    {
     "output_type": "execute_result",
     "data": {
      "text/plain": [
       "0.9282428290926305"
      ]
     },
     "metadata": {},
     "execution_count": 4
    }
   ],
   "metadata": {}
  },
  {
   "cell_type": "code",
   "execution_count": 5,
   "source": [
    "%matplotlib\n",
    "fig = plt.figure(dpi=150)\n",
    "\n",
    "ax = fig.add_subplot(111, projection='3d')\n",
    "\n",
    "ax.scatter(X_train['Aexperiencia'], X_train['NormPaises'],\n",
    "           y_train, c='b', marker='s')\n",
    "\n",
    "ax.scatter(X_train['Aexperiencia'], X_train['NormPaises'],\n",
    "           regressor.predict(X_train), c='r', marker='o')\n",
    "\n",
    "ax.plot_trisurf(\n",
    "  X_train['Aexperiencia'],\n",
    "  X_train['NormPaises'],\n",
    "  regressor.predict(\n",
    "      X_train\n",
    "  ),\n",
    "    color='black',\n",
    "    alpha=0.5\n",
    ")\n",
    "\n",
    "ax.set_xlabel('$Años de experiencia$')\n",
    "ax.set_ylabel('$Pais Normalizado$')\n",
    "ax.set_zlabel('$Salario$')\n"
   ],
   "outputs": [
    {
     "output_type": "stream",
     "name": "stdout",
     "text": [
      "Using matplotlib backend: Qt5Agg\n"
     ]
    },
    {
     "output_type": "execute_result",
     "data": {
      "text/plain": [
       "Text(0.5, 0, '$Salario$')"
      ]
     },
     "metadata": {},
     "execution_count": 5
    }
   ],
   "metadata": {}
  }
 ],
 "metadata": {
  "orig_nbformat": 4,
  "language_info": {
   "name": "python",
   "version": "3.9.5",
   "mimetype": "text/x-python",
   "codemirror_mode": {
    "name": "ipython",
    "version": 3
   },
   "pygments_lexer": "ipython3",
   "nbconvert_exporter": "python",
   "file_extension": ".py"
  },
  "kernelspec": {
   "name": "python3",
   "display_name": "Python 3.9.5 64-bit ('datascience_ml': conda)"
  },
  "interpreter": {
   "hash": "f5bceb1afc4869e4b9fabd2ca8b7231ce721ab457c48373fb761565f06fcb0ed"
  }
 },
 "nbformat": 4,
 "nbformat_minor": 2
}